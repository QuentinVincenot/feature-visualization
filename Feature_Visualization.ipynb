{
  "nbformat": 4,
  "nbformat_minor": 0,
  "metadata": {
    "colab": {
      "name": "Feature Visualization.ipynb",
      "provenance": [],
      "collapsed_sections": [],
      "toc_visible": true
    },
    "kernelspec": {
      "name": "python3",
      "display_name": "Python 3"
    },
    "language_info": {
      "name": "python"
    },
    "accelerator": "GPU"
  },
  "cells": [
    {
      "cell_type": "markdown",
      "metadata": {
        "id": "EF68uSb2iaxN"
      },
      "source": [
        "# Feature Visualization"
      ]
    },
    {
      "cell_type": "markdown",
      "metadata": {
        "id": "NBlIKSLBi5X0"
      },
      "source": [
        "This notebook aims at having fun and exploring different methods of Feature Visualization for Deep Learning models."
      ]
    },
    {
      "cell_type": "markdown",
      "metadata": {
        "id": "k2PZXguwjQ5x"
      },
      "source": [
        "## Importing the libraries"
      ]
    },
    {
      "cell_type": "code",
      "metadata": {
        "id": "OT899HZXjVBY"
      },
      "source": [
        "# Tensorflow/Keras for Deep Learning models\n",
        "import tensorflow as tf\n",
        "# NumPy for arrays easy handling\n",
        "import numpy as np\n",
        "# Matplotlib for displaying results and visualizations\n",
        "import matplotlib.pyplot as plt"
      ],
      "execution_count": 1,
      "outputs": []
    },
    {
      "cell_type": "markdown",
      "metadata": {
        "id": "5H0TiA1ZjYVt"
      },
      "source": [
        "## Feature Visualizer"
      ]
    },
    {
      "cell_type": "code",
      "metadata": {
        "colab": {
          "base_uri": "https://localhost:8080/"
        },
        "id": "kRVW_Ll0iDg_",
        "outputId": "baf57f1a-b0a6-4b8b-eedb-2e2bd30c0f42"
      },
      "source": [
        "from feature_vizualization import FeatureVisualizer\n",
        "\n",
        "\n",
        "# Load a VGG16 Keras model pre-trained on ImageNet \n",
        "model = tf.keras.applications.VGG16(weights=\"imagenet\", include_top=True)\n",
        "\n",
        "# Initialize the Feature Visualizer wrapper object\n",
        "feature_visualizer = FeatureVisualizer(model)\n",
        "# List the layers detected in the model\n",
        "feature_visualizer.list_layers()"
      ],
      "execution_count": 2,
      "outputs": [
        {
          "output_type": "stream",
          "text": [
            "{'layer_type': 'Conv2D', 'name': 'block1_conv1', 'neurons': 64}\n",
            "{'layer_type': 'Conv2D', 'name': 'block1_conv2', 'neurons': 64}\n",
            "{'layer_type': 'Conv2D', 'name': 'block2_conv1', 'neurons': 128}\n",
            "{'layer_type': 'Conv2D', 'name': 'block2_conv2', 'neurons': 128}\n",
            "{'layer_type': 'Conv2D', 'name': 'block3_conv1', 'neurons': 256}\n",
            "{'layer_type': 'Conv2D', 'name': 'block3_conv2', 'neurons': 256}\n",
            "{'layer_type': 'Conv2D', 'name': 'block3_conv3', 'neurons': 256}\n",
            "{'layer_type': 'Conv2D', 'name': 'block4_conv1', 'neurons': 512}\n",
            "{'layer_type': 'Conv2D', 'name': 'block4_conv2', 'neurons': 512}\n",
            "{'layer_type': 'Conv2D', 'name': 'block4_conv3', 'neurons': 512}\n",
            "{'layer_type': 'Conv2D', 'name': 'block5_conv1', 'neurons': 512}\n",
            "{'layer_type': 'Conv2D', 'name': 'block5_conv2', 'neurons': 512}\n",
            "{'layer_type': 'Conv2D', 'name': 'block5_conv3', 'neurons': 512}\n",
            "{'layer_type': 'Dense', 'name': 'fc1', 'neurons': 4096}\n",
            "{'layer_type': 'Dense', 'name': 'fc2', 'neurons': 4096}\n",
            "{'layer_type': 'Dense', 'name': 'predictions', 'neurons': 1000}\n"
          ],
          "name": "stdout"
        }
      ]
    },
    {
      "cell_type": "code",
      "metadata": {
        "id": "aH3RgkgQjnEb"
      },
      "source": [
        ""
      ],
      "execution_count": 8,
      "outputs": []
    },
    {
      "cell_type": "code",
      "metadata": {
        "id": "Bcpnk13Ej6h3"
      },
      "source": [
        ""
      ],
      "execution_count": null,
      "outputs": []
    }
  ]
}