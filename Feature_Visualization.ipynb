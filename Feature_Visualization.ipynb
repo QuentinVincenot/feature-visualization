{
  "nbformat": 4,
  "nbformat_minor": 0,
  "metadata": {
    "colab": {
      "name": "Feature Visualization.ipynb",
      "provenance": [],
      "collapsed_sections": [],
      "toc_visible": true
    },
    "kernelspec": {
      "name": "python3",
      "display_name": "Python 3"
    },
    "language_info": {
      "name": "python"
    },
    "accelerator": "GPU"
  },
  "cells": [
    {
      "cell_type": "markdown",
      "metadata": {
        "id": "EF68uSb2iaxN"
      },
      "source": [
        "# Feature Visualization"
      ]
    },
    {
      "cell_type": "markdown",
      "metadata": {
        "id": "NBlIKSLBi5X0"
      },
      "source": [
        "This notebook aims at having fun and exploring different methods of Feature Visualization for Deep Learning models."
      ]
    },
    {
      "cell_type": "markdown",
      "metadata": {
        "id": "k2PZXguwjQ5x"
      },
      "source": [
        "## Importing the libraries"
      ]
    },
    {
      "cell_type": "code",
      "metadata": {
        "id": "OT899HZXjVBY"
      },
      "source": [
        "import tensorflow as tf"
      ],
      "execution_count": 1,
      "outputs": []
    },
    {
      "cell_type": "markdown",
      "metadata": {
        "id": "5H0TiA1ZjYVt"
      },
      "source": [
        "## Feature Visualizer"
      ]
    },
    {
      "cell_type": "code",
      "metadata": {
        "id": "aH3RgkgQjnEb"
      },
      "source": [
        "class FeatureVisualizer:\n",
        "  def __init__(self, model):\n",
        "    self.model = model\n",
        "    self.layers = []\n",
        "    for idx, _ in enumerate(self.model.layers):\n",
        "      if 'Conv2D' in str(type(self.model.layers[idx])):\n",
        "        self.layers.append({'layer_type': 'Conv2D', 'name': self.model.layers[idx].name, 'neurons': self.model.layers[idx].filters})\n",
        "      elif 'Dense' in str(type(self.model.layers[idx])):\n",
        "        self.layers.append({'layer_type': 'Dense', 'name': self.model.layers[idx].name, 'neurons': self.model.layers[idx].units})"
      ],
      "execution_count": 2,
      "outputs": []
    },
    {
      "cell_type": "code",
      "metadata": {
        "colab": {
          "base_uri": "https://localhost:8080/"
        },
        "id": "kRVW_Ll0iDg_",
        "outputId": "5185e402-6e51-47eb-dfe3-48a49dfbe73e"
      },
      "source": [
        "model = tf.keras.applications.ResNet50V2(weights=\"imagenet\", include_top=True)\n",
        "\n",
        "feature_visualizer = FeatureVisualizer(model)\n",
        "# feature_visualizer.get_model_layers()"
      ],
      "execution_count": 3,
      "outputs": [
        {
          "output_type": "stream",
          "text": [
            "Downloading data from https://storage.googleapis.com/tensorflow/keras-applications/resnet/resnet50v2_weights_tf_dim_ordering_tf_kernels.h5\n",
            "102875136/102869336 [==============================] - 1s 0us/step\n"
          ],
          "name": "stdout"
        }
      ]
    },
    {
      "cell_type": "code",
      "metadata": {
        "id": "Bcpnk13Ej6h3"
      },
      "source": [
        ""
      ],
      "execution_count": null,
      "outputs": []
    }
  ]
}